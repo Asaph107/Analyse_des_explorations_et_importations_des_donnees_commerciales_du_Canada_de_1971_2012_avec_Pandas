{
 "cells": [
  {
   "cell_type": "markdown",
   "id": "68ff76f5",
   "metadata": {},
   "source": [
    "<h1 style=\"font-size: 40px; font-weight: bold; color: blue; text-align: center; line-height: 1.2;\">\n",
    "  Représentation des importations et des exportations du Canada (1971 - 2012)\n",
    "</h1>"
   ]
  },
  {
   "cell_type": "markdown",
   "id": "5ddc6889",
   "metadata": {},
   "source": [
    "lien DataSet : https://www150.statcan.gc.ca/n1/tbl/csv/12100014-fra.zip"
   ]
  },
  {
   "cell_type": "markdown",
   "id": "bfae182b",
   "metadata": {},
   "source": [
    "# Étapes\n",
    "\n",
    "\n",
    "##  Extraction\n",
    "1. **Télécharger le fichier ZIP**  \n",
    "2. **Extraction et affichage des CSV Bruts** \n",
    "3. **Identifier le bon tableau contenant les bonnes colonnes**\n",
    "4. **Vérification du tableau trouvé**\n",
    "5. **Extraction des données**\n",
    "---\n",
    "\n",
    "##  Transformation\n",
    "\n",
    "1. **Selection du CSV '12100014.csv'**\n",
    "2. **Vérification de l'existence du fichier cible dans l'archive ZIP**\n",
    "3. **Nettoyage des noms de colonnes**\n",
    "4. **Selection des colonnes utilies**\n",
    "5. **Filtrage des colonnes**\n",
    "6. **Nettoyage des chaînes de caractères**\n",
    "7. **Remplacement des valeurs numériques manquantes par la médiane**\n",
    "8. **Supprimer les doublons**\n",
    "9. **Formatage des dates**\n",
    "10. **Réinitialisation de l'index**\n",
    "11. **Enregistrement du DataFrame nettoyé dans le dictionnaire**\n",
    "---\n",
    "\n",
    "##  Chargement (Laoding)\n",
    "1. **Connexion SQL Server**\n",
    "2. **Insertion dans SQL Server**\n",
    "\n",
    "---\n"
   ]
  },
  {
   "cell_type": "markdown",
   "id": "309b5aba",
   "metadata": {},
   "source": [
    "---\n",
    "##  Extraction"
   ]
  },
  {
   "cell_type": "code",
   "execution_count": 2,
   "id": "fafb61ca",
   "metadata": {},
   "outputs": [
    {
     "name": "stdout",
     "output_type": "stream",
     "text": [
      "Fichiers CSV dans le ZIP :\n",
      "\n",
      " --- APERCU DU FICHIER CSV BRUT : 12100014.csv ---\n",
      "﻿\"PÉRIODE DE RÉFÉRENCE\";\"GÉO\";\"DGUID\";\"Base\";\"Désaisonnalisation\";\"L'importation et l'exportation, groupes principaux de marchandises et marchés principaux\";\"UNITÉ DE MESURE\";\"IDENTIFICATEUR D'UNITÉ DE MESURE\";\"FACTEUR SCALAIRE\";\"IDENTIFICATEUR SCALAIRE\";\"VECTEUR\";\"COORDONNÉES\";\"VALEUR\";\"STATUS\";\"SYMBOLE\";\"TERMINÉ\";\"DÉCIMALES\"\n",
      "\"1971-01\";\"Canada\";\"2016A000011124\";\"Balance des paiements\";\"Non désaisonnalisées\";\"Importations, total de toutes les marchandises\";\"Dollars\";\"81\";\"millions\";\"6\";\"v183258\";\"1.2.1.1\";\"3349.0\";\"\";\"\";\"\";\"1\"\n",
      "\"1971-01\";\"Canada\";\"2016A000011124\";\"Balance des paiements\";\"Non désaisonnalisées\";\"Importations, section 1 Animaux vivants\";\"Dollars\";\"81\";\"millions\";\"6\";\"v183259\";\"1.2.1.2\";\"18.5\";\"\";\"\";\"\";\"1\"\n",
      "\"1971-01\";\"Canada\";\"2016A000011124\";\"Balance des paiements\";\"Non désaisonnalisées\";\"Importations, section 2 Aliments, provendes, boissons et tabacs\";\"Dollars\";\"81\";\"millions\";\"6\";\"v183260\";\"1.2.1.3\";\"204.2\";\"\";\"\";\"\";\"1\"\n",
      "\"1971-01\";\"Canada\";\"2016A000011124\";\"Balance des paiements\";\"Non désaisonnalisées\";\"Importations, groupe principal 2.1 Viandes et préparations de viandes\";\"Dollars\";\"81\";\"millions\";\"6\";\"v183261\";\"1.2.1.4\";\"16.5\";\"\";\"\";\"\";\"1\"\n",
      "\"1971-01\";\"Canada\";\"2016A000011124\";\"Balance des paiements\";\"Non désaisonnalisées\";\"Importations, groupe principal 2.2 Poisson et animaux marins\";\"Dollars\";\"81\";\"millions\";\"6\";\"v183267\";\"1.2.1.5\";\"10.3\";\"\";\"\";\"\";\"1\"\n",
      "\"1971-01\";\"Canada\";\"2016A000011124\";\"Balance des paiements\";\"Non désaisonnalisées\";\"Importations, groupe principal 2.3 Fruits frais et baies\";\"Dollars\";\"81\";\"millions\";\"6\";\"v183268\";\"1.2.1.6\";\"28.6\";\"\";\"\";\"\";\"1\"\n",
      "\"1971-01\";\"Canada\";\"2016A000011124\";\"Balance des paiements\";\"Non désaisonnalisées\";\"Importations, groupe principal 2.4 Fruits séchés, fruits et préparations à base de fruits\";\"Dollars\";\"81\";\"millions\";\"6\";\"v183269\";\"1.2.1.7\";\"17.9\";\"\";\"\";\"\";\"1\"\n",
      "\"1971-01\";\"Canada\";\"2016A000011124\";\"Balance des paiements\";\"Non désaisonnalisées\";\"Importations, groupe principal 2.5 Légumes frais\";\"Dollars\";\"81\";\"millions\";\"6\";\"v183270\";\"1.2.1.8\";\"25.8\";\"\";\"\";\"\";\"1\"\n",
      "\"1971-01\";\"Canada\";\"2016A000011124\";\"Balance des paiements\";\"Non désaisonnalisées\";\"Importations, groupe principal 2.6 Autres légumes et préparations à base de légumes\";\"Dollars\";\"81\";\"millions\";\"6\";\"v183271\";\"1.2.1.9\";\"10.5\";\"\";\"\";\"\";\"1\"\n",
      "\n",
      " --- APERCU DU FICHIER CSV BRUT : 12100014_MetaData.csv ---\n",
      "﻿\"Titre du cube\";\"Numéro d'identification du produit\";\"Numéro d'identification de CANSIM\";URL;\"Notes sur le cube\";\"État de l'archivage\";Fréquence;\"Début de la période de référence\";\"Fin de la période de référence\";\"Nombre total de dimensions\"\n",
      "\"Importations et exportations de marchandises, par groupes principaux et par marchés principaux pour tous les pays, trimestriel\";12100014;\"228-0002\";\"https://www150.statcan.gc.ca/t1/tbl1/fr/tv.action?pid=1210001401\";\"1,2,3,4\";\"ARCHIVÉ - un cube qui est disponible au public mais n'étant plus mis à jour\";Trimestrielle;\"1971-01-01\";\"2012-04-01\";4\n",
      "\n",
      "\"Numéro d'identification de la dimension\";\"Nom de la dimension\";\"Notes sur la dimension\";\"Notes de correction sur la dimension\";\"Définitions de la dimension\"\n",
      "1;Géographie;;;\n",
      "2;Base;;;\n",
      "3;Désaisonnalisation;;;\n",
      "4;\"L'importation et l'exportation, groupes principaux de marchandises et marchés principaux\";;;\n",
      "\n",
      "\"Numéro d'identification de la dimension\";\"Nom du membre\";\"Code sur la classification\";\"Numéro d'identification du membre\";\"Numéro d'identification du membre parent\";Terminé;\"Notes sur le membre\";\"Notes de correction sur le membre\";\"Member Geo Attribute Keys\";\"Définitions du membre\"\n"
     ]
    }
   ],
   "source": [
    "import sys\n",
    "import requests\n",
    "import zipfile\n",
    "import io\n",
    "import pandas as pd\n",
    "from IPython.display import display\n",
    "from sqlalchemy import create_engine\n",
    "import urllib\n",
    "\n",
    "# Étape 1 : Télécharger le fichier ZIP\n",
    "url = \"https://www150.statcan.gc.ca/n1/tbl/csv/12100014-fra.zip\"\n",
    "response = requests.get(url)\n",
    "\n",
    "if response.status_code != 200:\n",
    "    print(f\"Erreur de téléchargement. Code d'erreur : {response.status_code}\")\n",
    "    sys.exit()\n",
    "\n",
    "# Étape 2 : Extraction et affichage des CSV Bruts\n",
    "with zipfile.ZipFile(io.BytesIO(response.content)) as archive_zip:\n",
    "    csv_files = [f for f in archive_zip.namelist() if f.endswith('.csv')]\n",
    "\n",
    "    # Affichage du CSV Brut\n",
    "    print(\"Fichiers CSV dans le ZIP :\")\n",
    "    for csv_name in csv_files:\n",
    "        with archive_zip.open(csv_name) as file:\n",
    "            raw_content = file.read().decode('utf-8')\n",
    "            print(f\"\\n --- APERCU DU FICHIER CSV BRUT : {csv_name} ---\")\n",
    "            print(\"\\n\".join(raw_content.splitlines()[:10]))  # 10 premières lignes\n"
   ]
  },
  {
   "cell_type": "markdown",
   "id": "7c50d244",
   "metadata": {},
   "source": [
    "---\n",
    "##  Transformation"
   ]
  },
  {
   "cell_type": "code",
   "execution_count": 6,
   "id": "af1d9992",
   "metadata": {},
   "outputs": [
    {
     "name": "stdout",
     "output_type": "stream",
     "text": [
      "\n",
      "=== Données NETTOYÉES : 12100014.csv ===\n",
      "Colonnes conservées : ['période_de_référence', 'valeur', 'limportation_et_lexportation_groupes_principaux_de_marchandises_et_marchés_principaux', 'base']\n",
      "Nombre de lignes : 77342\n",
      "Nombre de colonnes : 4\n",
      "<class 'pandas.core.frame.DataFrame'>\n",
      "RangeIndex: 77342 entries, 0 to 77341\n",
      "Data columns (total 4 columns):\n",
      " #   Column                                                                                 Non-Null Count  Dtype         \n",
      "---  ------                                                                                 --------------  -----         \n",
      " 0   période_de_référence                                                                   77342 non-null  datetime64[ns]\n",
      " 1   valeur                                                                                 77342 non-null  float64       \n",
      " 2   limportation_et_lexportation_groupes_principaux_de_marchandises_et_marchés_principaux  77342 non-null  object        \n",
      " 3   base                                                                                   77342 non-null  object        \n",
      "dtypes: datetime64[ns](1), float64(1), object(2)\n",
      "memory usage: 2.4+ MB\n"
     ]
    },
    {
     "data": {
      "text/plain": [
       "None"
      ]
     },
     "metadata": {},
     "output_type": "display_data"
    }
   ],
   "source": [
    "\n",
    "# Selection du CSV '12100014.csv'\n",
    "cleaned_dfs = {}\n",
    "\n",
    "with zipfile.ZipFile(io.BytesIO(response.content)) as archive_zip:\n",
    "    target_csv = \"12100014.csv\"\n",
    "\n",
    "    # Vérification de l'existence du fichier cible dans l'archive ZIP\n",
    "    if target_csv in archive_zip.namelist():\n",
    "\n",
    "\n",
    "        with archive_zip.open(target_csv) as file:\n",
    "            df = pd.read_csv(file, sep=';', encoding='utf-8')\n",
    "\n",
    "        # Nettoyage des noms de colonnes\n",
    "        df.columns = (\n",
    "            df.columns\n",
    "            .str.strip()\n",
    "            .str.lower()\n",
    "            .str.replace(' ', '_')\n",
    "            .str.replace(\"'\", '')\n",
    "            .str.replace(',', '')\n",
    "        )\n",
    "\n",
    "        # Selection des colonnes à conserver\n",
    "        colonnes_conservees = [\n",
    "            'période_de_référence',\n",
    "            'valeur',\n",
    "            'limportation_et_lexportation_groupes_principaux_de_marchandises_et_marchés_principaux',\n",
    "            'unité_de',\n",
    "            'base'\n",
    "        ]\n",
    "\n",
    "        # Filtrage des colonnes\n",
    "        colonnes_presentes = [col for col in colonnes_conservees if col in df.columns]\n",
    "        df = df[colonnes_presentes]\n",
    "\n",
    "        # Nettoyage des chaînes de caractères\n",
    "        for col in df.select_dtypes(include='object').columns:\n",
    "            df[col] = df[col].str.strip().replace('', None)\n",
    "\n",
    "        # Remplacement des valeurs numériques manquantes par la médiane\n",
    "        for col in df.select_dtypes(include='number').columns:\n",
    "            if df[col].isnull().any():\n",
    "                df[col] = df[col].fillna(df[col].median())\n",
    "        \n",
    "        # Supprimer les doublons\n",
    "        df = df.drop_duplicates()\n",
    "\n",
    "        # Formatage des dates\n",
    "        if 'période_de_référence' in df.columns:\n",
    "            df['période_de_référence'] = pd.to_datetime(df['période_de_référence'], errors='coerce')\n",
    "\n",
    "        # Réinitialisation de l'index\n",
    "        df.reset_index(drop=True, inplace=True)\n",
    "\n",
    "        # Enregistrement du DataFrame nettoyé dans le dictionnaire\n",
    "        cleaned_dfs[target_csv] = df\n",
    "\n",
    "        print(f\"\\n=== Données NETTOYÉES : {target_csv} ===\")\n",
    "        print(f\"Colonnes conservées : {colonnes_presentes}\")\n",
    "        print(f\"Nombre de lignes : {df.shape[0]}\")\n",
    "        print(f\"Nombre de colonnes : {df.shape[1]}\")\n",
    "        display(df.info())\n",
    "\n",
    "    else:\n",
    "        print(f\"Le fichier {target_csv} n'a pas été trouvé dans l'archive ZIP.\")\n",
    "        sys.exit()"
   ]
  },
  {
   "cell_type": "markdown",
   "id": "2ec168c6",
   "metadata": {},
   "source": [
    "---\n",
    "##  Chargement (Laoding)"
   ]
  },
  {
   "cell_type": "code",
   "execution_count": null,
   "id": "89f61d83",
   "metadata": {},
   "outputs": [
    {
     "name": "stdout",
     "output_type": "stream",
     "text": [
      "\n",
      " Insertion des données dans la table SQL : 12100014\n",
      " Insertion terminée pour 12100014\n"
     ]
    }
   ],
   "source": [
    "\n",
    "# Connexion SQL Server\n",
    "params = urllib.parse.quote_plus(\n",
    "    \"DRIVER={ODBC Driver 17 for SQL Server};\"\n",
    "    \"SERVER=LAPTOP-7GECG3FQ\\\\SQLEXPRESS;\"\n",
    "    \"DATABASE=DataBaseGouvernement;\"\n",
    "    \"Trusted_Connection=yes;\"\n",
    ")\n",
    "engine = create_engine(\"mssql+pyodbc:///?odbc_connect=%s\" % params)\n",
    "\n",
    "# Insertion dans SQL Server\n",
    "for csv_name, df in cleaned_dfs.items():\n",
    "    table_name = csv_name.replace('.csv', '').replace('-', '_').lower()\n",
    "    print(f\"\\n Insertion des données dans la table SQL : {table_name}\")\n",
    "    df.to_sql(table_name, engine, if_exists='replace', index=False)\n",
    "    print(f\" Insertion terminée pour {table_name}\")\n"
   ]
  }
 ],
 "metadata": {
  "kernelspec": {
   "display_name": "base",
   "language": "python",
   "name": "python3"
  },
  "language_info": {
   "codemirror_mode": {
    "name": "ipython",
    "version": 3
   },
   "file_extension": ".py",
   "mimetype": "text/x-python",
   "name": "python",
   "nbconvert_exporter": "python",
   "pygments_lexer": "ipython3",
   "version": "3.12.7"
  }
 },
 "nbformat": 4,
 "nbformat_minor": 5
}
